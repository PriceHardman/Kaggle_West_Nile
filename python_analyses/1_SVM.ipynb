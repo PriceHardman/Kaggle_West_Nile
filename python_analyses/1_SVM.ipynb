{
 "metadata": {
  "name": "",
  "signature": "sha256:efc1eda3d9f8e6ec2781f7bee905f55d32764029212d89947653f647a175a374"
 },
 "nbformat": 3,
 "nbformat_minor": 0,
 "worksheets": [
  {
   "cells": [
    {
     "cell_type": "code",
     "collapsed": false,
     "input": [
      "import pandas as pd\n",
      "import numpy as np\n",
      "from datetime import datetime\n",
      "from sklearn.preprocessing import StandardScaler, LabelBinarizer, Imputer, LabelEncoder\n",
      "from sklearn.feature_extraction.text import CountVectorizer\n",
      "from sklearn.decomposition import PCA\n",
      "from sklearn.svm import SVC\n",
      "from sklearn.grid_search import GridSearchCV\n",
      "from sklearn.pipeline import Pipeline\n",
      "from statsmodels.nonparametric.smoothers_lowess import lowess\n",
      "import matplotlib.pyplot as plt\n",
      "import time\n",
      "%matplotlib inline"
     ],
     "language": "python",
     "metadata": {},
     "outputs": [],
     "prompt_number": 52
    },
    {
     "cell_type": "code",
     "collapsed": false,
     "input": [
      "#page_start = time.time()\n",
      "df = pd.read_csv('../raw_data.csv',verbose=0)"
     ],
     "language": "python",
     "metadata": {},
     "outputs": [],
     "prompt_number": 53
    },
    {
     "cell_type": "heading",
     "level": 1,
     "metadata": {},
     "source": [
      "Preprocessing"
     ]
    },
    {
     "cell_type": "heading",
     "level": 3,
     "metadata": {},
     "source": [
      "Remove columns"
     ]
    },
    {
     "cell_type": "code",
     "collapsed": false,
     "input": [
      "# Remove columns\n",
      "columns_to_remove = [\n",
      "'Address','AddressAccuracy','AddressNumberAndStreet','Block',\n",
      "'NumMosquitos','Street','closestStation',\n",
      "'Station','Sunrise','Sunset','SnowFall', 'Water1', 'Depth'\n",
      "]\n",
      "df = df.drop(columns_to_remove,axis = 1)"
     ],
     "language": "python",
     "metadata": {},
     "outputs": [],
     "prompt_number": 54
    },
    {
     "cell_type": "heading",
     "level": 3,
     "metadata": {},
     "source": [
      "Create some new date features (e.g. Month, Week#)"
     ]
    },
    {
     "cell_type": "code",
     "collapsed": false,
     "input": [
      "df['Month'] = df.Date.map(lambda x: datetime.strptime(x,'%Y-%m-%d').strftime(\"%B\"))\n",
      "df['Week']  = df.Date.map(lambda x: int(datetime.strptime(x,\"%Y-%m-%d\").isocalendar()[1]))"
     ],
     "language": "python",
     "metadata": {},
     "outputs": [],
     "prompt_number": 55
    },
    {
     "cell_type": "heading",
     "level": 3,
     "metadata": {},
     "source": [
      "Convert junk values"
     ]
    },
    {
     "cell_type": "code",
     "collapsed": false,
     "input": [
      "# Remove missing values\n",
      "#   - 'Depart','WetBulb','PrecipTotal', and 'StnPressure' should be numeric,\n",
      "#      but contain erroneous strings in places. These should be treated as NaN.\n",
      "#   - 'CodeSum' contains empty spaces in some places, which should also be\n",
      "#      treated as no weather. Convert these to \"NA\".\n",
      "def convert_nonnumeric_to_nan(s):\n",
      "    try:\n",
      "        float(s)\n",
      "        return s\n",
      "    except ValueError:\n",
      "        return np.nan\n",
      "    \n",
      "def convert_empty_string_to_na(s):\n",
      "    if str(s).strip() is '':\n",
      "        return \"__\"\n",
      "    else:\n",
      "        return s\n",
      "    \n",
      "for col in ['Depart','WetBulb','PrecipTotal','StnPressure']:\n",
      "    df[col] = df[col].apply(convert_nonnumeric_to_nan)\n",
      "df['CodeSum'] = df['CodeSum'].apply(convert_empty_string_to_na)"
     ],
     "language": "python",
     "metadata": {},
     "outputs": [],
     "prompt_number": 56
    },
    {
     "cell_type": "heading",
     "level": 3,
     "metadata": {},
     "source": [
      "Impute missing values from NaNs"
     ]
    },
    {
     "cell_type": "code",
     "collapsed": false,
     "input": [
      "# Impute missing values to the median (and incidentally convert to float)\n",
      "convert_to_float = ['PrecipTotal','StnPressure','Depart','WetBulb']\n",
      "for col in convert_to_float:\n",
      "    df[col] = Imputer(strategy='median',axis = 1).fit_transform(df[col])[0]"
     ],
     "language": "python",
     "metadata": {},
     "outputs": [],
     "prompt_number": 57
    },
    {
     "cell_type": "heading",
     "level": 3,
     "metadata": {},
     "source": [
      "Smooth Latitude and Longitude using LOESS"
     ]
    },
    {
     "cell_type": "code",
     "collapsed": false,
     "input": [
      "coordinates_loess = lowess(df.Longitude,df.Latitude)\n",
      "df['Longitude'] = coordinates_loess[:,1]\n",
      "df['Latitude']  = coordinates_loess[:,0]"
     ],
     "language": "python",
     "metadata": {},
     "outputs": [],
     "prompt_number": 58
    },
    {
     "cell_type": "heading",
     "level": 3,
     "metadata": {},
     "source": [
      "Binarize discrete low-cardinality features"
     ]
    },
    {
     "cell_type": "code",
     "collapsed": false,
     "input": [
      "df_non_binarized = df.copy()\n",
      "for col in ['Species','Trap','Month']:\n",
      "    le = LabelEncoder()\n",
      "    binarized_df = pd.DataFrame(data = LabelBinarizer().fit_transform(le.fit_transform(df[col])),columns=le.classes_)\n",
      "    df = df.drop(col,axis=1)\n",
      "    df = pd.concat([df,binarized_df],axis=1)"
     ],
     "language": "python",
     "metadata": {},
     "outputs": [],
     "prompt_number": 59
    },
    {
     "cell_type": "heading",
     "level": 3,
     "metadata": {},
     "source": [
      "Standardize non-binary features"
     ]
    },
    {
     "cell_type": "code",
     "collapsed": false,
     "input": [
      "columns_to_scale = [\n",
      "    'Latitude','Longitude','Tmax','Tavg',\n",
      "    'Tmin','Depart','DewPoint','WetBulb',\n",
      "    'Heat','Cool','PrecipTotal','StnPressure','SeaLevel',\n",
      "    'ResultSpeed','ResultDir','AvgSpeed','Week'\n",
      "]\n",
      "for d in [df,df_non_binarized]:\n",
      "    for col in columns_to_scale:\n",
      "        d[col] = (d[col] - d[col].mean())/d[col].std()"
     ],
     "language": "python",
     "metadata": {},
     "outputs": [],
     "prompt_number": 60
    },
    {
     "cell_type": "code",
     "collapsed": false,
     "input": [
      "df_non_binarized.to_csv('../processed_data.csv',index=False)"
     ],
     "language": "python",
     "metadata": {},
     "outputs": [],
     "prompt_number": 61
    },
    {
     "cell_type": "heading",
     "level": 3,
     "metadata": {},
     "source": [
      "Drop some final features"
     ]
    },
    {
     "cell_type": "code",
     "collapsed": false,
     "input": [
      "df = df.drop(['Date','Id','CodeSum'],axis=1)"
     ],
     "language": "python",
     "metadata": {},
     "outputs": [],
     "prompt_number": 46
    },
    {
     "cell_type": "heading",
     "level": 1,
     "metadata": {},
     "source": [
      "Train-Test Split"
     ]
    },
    {
     "cell_type": "code",
     "collapsed": false,
     "input": [
      "train, test = df[df.dataset == 'train'].drop(['dataset'],axis=1), df[df.dataset == 'test'].drop(['dataset','WnvPresent'],axis=1)\n",
      "X,y = train.drop('WnvPresent',1), train['WnvPresent']\n",
      "df.to_csv('../binarized_data.csv',index=False)"
     ],
     "language": "python",
     "metadata": {},
     "outputs": [],
     "prompt_number": 47
    },
    {
     "cell_type": "heading",
     "level": 1,
     "metadata": {},
     "source": [
      "Model Building"
     ]
    },
    {
     "cell_type": "code",
     "collapsed": false,
     "input": [
      "parameters = {\n",
      "    'pca__n_components':[10],\n",
      "    'classifier__C':[1e-2,1e0,1e4]\n",
      "}\n",
      "\n",
      "pipeline = Pipeline(steps=[\n",
      "    ('pca',PCA(n_components=10)),\n",
      "    ('classifier',SVC(cache_size=2000,class_weight={0:1,1:18}))\n",
      "])\n",
      "\n",
      "grid_search_start = time.time()\n",
      "if __name__ == \"__main__\":\n",
      "    # multiprocessing requires the fork to happen in a __main__ protected\n",
      "    # block\n",
      "    \n",
      "    grid_search = GridSearchCV(\n",
      "        pipeline,parameters,cv=5,n_jobs=-1,verbose=1,scoring='roc_auc'\n",
      "    )\n",
      "    grid_search.fit(X,y)\n",
      "    best_params = grid_search.best_params_\n",
      "    print(\"Best score: %0.3f\" % grid_search.best_score_)\n",
      "    print(\"Best parameters set:\",best_params)\n",
      "    print(\"Model trained in %0.3f seconds\" % (time.time() - grid_search_start))"
     ],
     "language": "python",
     "metadata": {},
     "outputs": [
      {
       "output_type": "stream",
       "stream": "stderr",
       "text": [
        "[Parallel(n_jobs=-1)]: Done   1 jobs       | elapsed:    6.5s\n",
        "[Parallel(n_jobs=-1)]: Done   9 out of  15 | elapsed:   17.5s remaining:   11.6s\n",
        "[Parallel(n_jobs=-1)]: Done  15 out of  15 | elapsed:   26.9s finished\n"
       ]
      },
      {
       "output_type": "stream",
       "stream": "stdout",
       "text": [
        "Fitting 5 folds for each of 3 candidates, totalling 15 fits\n",
        "Best score: 0.562"
       ]
      },
      {
       "output_type": "stream",
       "stream": "stdout",
       "text": [
        "\n",
        "Best parameters set: {'classifier__C': 0.01, 'pca__n_components': 10}\n",
        "Model trained in 32.925 seconds\n"
       ]
      }
     ],
     "prompt_number": 48
    },
    {
     "cell_type": "code",
     "collapsed": false,
     "input": [
      "prediction_start = time.time()\n",
      "results = pd.DataFrame({\n",
      "'Id': list(range(1,len(test)+1)),\n",
      "'WnvPresent': grid_search.best_estimator_.predict(test)\n",
      "})\n",
      "results.groupby('WnvPresent').describe()"
     ],
     "language": "python",
     "metadata": {},
     "outputs": [
      {
       "html": [
        "<div style=\"max-height:1000px;max-width:1500px;overflow:auto;\">\n",
        "<table border=\"1\" class=\"dataframe\">\n",
        "  <thead>\n",
        "    <tr style=\"text-align: right;\">\n",
        "      <th></th>\n",
        "      <th></th>\n",
        "      <th>Id</th>\n",
        "    </tr>\n",
        "    <tr>\n",
        "      <th>WnvPresent</th>\n",
        "      <th></th>\n",
        "      <th></th>\n",
        "    </tr>\n",
        "  </thead>\n",
        "  <tbody>\n",
        "    <tr>\n",
        "      <th rowspan=\"8\" valign=\"top\">0</th>\n",
        "      <th>count</th>\n",
        "      <td>  84596.000000</td>\n",
        "    </tr>\n",
        "    <tr>\n",
        "      <th>mean</th>\n",
        "      <td>  57207.167372</td>\n",
        "    </tr>\n",
        "    <tr>\n",
        "      <th>std</th>\n",
        "      <td>  34198.300202</td>\n",
        "    </tr>\n",
        "    <tr>\n",
        "      <th>min</th>\n",
        "      <td>      1.000000</td>\n",
        "    </tr>\n",
        "    <tr>\n",
        "      <th>25%</th>\n",
        "      <td>  30097.750000</td>\n",
        "    </tr>\n",
        "    <tr>\n",
        "      <th>50%</th>\n",
        "      <td>  59771.500000</td>\n",
        "    </tr>\n",
        "    <tr>\n",
        "      <th>75%</th>\n",
        "      <td>  89809.250000</td>\n",
        "    </tr>\n",
        "    <tr>\n",
        "      <th>max</th>\n",
        "      <td> 116293.000000</td>\n",
        "    </tr>\n",
        "    <tr>\n",
        "      <th rowspan=\"8\" valign=\"top\">1</th>\n",
        "      <th>count</th>\n",
        "      <td>  31697.000000</td>\n",
        "    </tr>\n",
        "    <tr>\n",
        "      <th>mean</th>\n",
        "      <td>  60655.315645</td>\n",
        "    </tr>\n",
        "    <tr>\n",
        "      <th>std</th>\n",
        "      <td>  31700.899540</td>\n",
        "    </tr>\n",
        "    <tr>\n",
        "      <th>min</th>\n",
        "      <td>   8480.000000</td>\n",
        "    </tr>\n",
        "    <tr>\n",
        "      <th>25%</th>\n",
        "      <td>  24583.000000</td>\n",
        "    </tr>\n",
        "    <tr>\n",
        "      <th>50%</th>\n",
        "      <td>  54715.000000</td>\n",
        "    </tr>\n",
        "    <tr>\n",
        "      <th>75%</th>\n",
        "      <td>  86578.000000</td>\n",
        "    </tr>\n",
        "    <tr>\n",
        "      <th>max</th>\n",
        "      <td> 115277.000000</td>\n",
        "    </tr>\n",
        "  </tbody>\n",
        "</table>\n",
        "</div>"
       ],
       "metadata": {},
       "output_type": "pyout",
       "prompt_number": 49,
       "text": [
        "                             Id\n",
        "WnvPresent                     \n",
        "0          count   84596.000000\n",
        "           mean    57207.167372\n",
        "           std     34198.300202\n",
        "           min         1.000000\n",
        "           25%     30097.750000\n",
        "           50%     59771.500000\n",
        "           75%     89809.250000\n",
        "           max    116293.000000\n",
        "1          count   31697.000000\n",
        "           mean    60655.315645\n",
        "           std     31700.899540\n",
        "           min      8480.000000\n",
        "           25%     24583.000000\n",
        "           50%     54715.000000\n",
        "           75%     86578.000000\n",
        "           max    115277.000000"
       ]
      }
     ],
     "prompt_number": 49
    },
    {
     "cell_type": "code",
     "collapsed": false,
     "input": [
      "print(\"Prediction Time: %0.3f seconds\" % (time.time() - prediction_start))\n",
      "#print(\"Full run time: %0.3f seconds\" %(time.time()-page_start))"
     ],
     "language": "python",
     "metadata": {},
     "outputs": [
      {
       "output_type": "stream",
       "stream": "stdout",
       "text": [
        "Prediction Time: 36.675 seconds\n"
       ]
      }
     ],
     "prompt_number": 50
    },
    {
     "cell_type": "code",
     "collapsed": false,
     "input": [
      "#results.to_csv('../submissions/10_svm.csv',index=False)"
     ],
     "language": "python",
     "metadata": {},
     "outputs": [],
     "prompt_number": 51
    }
   ],
   "metadata": {}
  }
 ]
}