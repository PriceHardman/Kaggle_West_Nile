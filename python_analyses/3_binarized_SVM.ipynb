{
 "cells": [
  {
   "cell_type": "code",
   "execution_count": 1,
   "metadata": {
    "collapsed": true
   },
   "outputs": [],
   "source": [
    "import pandas as pd\n",
    "from pandas import Categorical\n",
    "import numpy as np\n",
    "\n",
    "from sklearn.preprocessing import LabelEncoder, LabelBinarizer, StandardScaler, Imputer\n",
    "from sklearn.cross_validation import LeaveOneLabelOut, cross_val_score\n",
    "from sklearn.pipeline import Pipeline\n",
    "from sklearn.grid_search import GridSearchCV\n",
    "from sklearn.ensemble import RandomForestClassifier\n",
    "from sklearn.svm import SVC\n",
    "from sklearn.decomposition import PCA\n",
    "\n",
    "import time\n",
    "\n",
    "import matplotlib.pyplot as plt\n",
    "%matplotlib inline"
   ]
  },
  {
   "cell_type": "code",
   "execution_count": 2,
   "metadata": {
    "collapsed": false
   },
   "outputs": [],
   "source": [
    "data_dtypes = {\n",
    "    'Dataset':'category',\n",
    "    'ID':'int',\n",
    "    'YearMonth': 'category',\n",
    "    'Year': 'category',\n",
    "    'Month': 'category',\n",
    "    'Week': 'category',\n",
    "    'Address': 'category',\n",
    "    'Species': 'category',\n",
    "    'Block': 'category',\n",
    "    'Street': 'category',\n",
    "    'Trap': 'category',\n",
    "    'AddressNumberAndStreet': 'category',\n",
    "    'Latitude': 'float32',\n",
    "    'Longitude': 'float32',\n",
    "    'AddressAccuracy': 'category',\n",
    "    'NumMosquitos': 'float32',\n",
    "    'Tmax': 'float32',\n",
    "    'Tmin': 'float32',\n",
    "    'Tavg': 'float32',\n",
    "    'Depart': 'category',\n",
    "    'DewPoint': 'float32',\n",
    "    'WetBulb': 'float32',\n",
    "    'Heat': 'category',\n",
    "    'Cool': 'category',\n",
    "    'Sunrise': 'float32',\n",
    "    'Sunset': 'float32',\n",
    "    'CodeSum': 'category',\n",
    "    'PrecipTotal': 'float32',\n",
    "    'StnPressure': 'float32',\n",
    "    'SeaLevel': 'float32',\n",
    "    'ResultSpeed': 'float32',\n",
    "    'ResultDir': 'float32',\n",
    "    'AvgSpeed': 'float32',\n",
    "    'SprayIntensity': 'float32',\n",
    "    'WnvPresent': 'category'\n",
    "}\n",
    "data = pd.read_csv('../data/smote_data.csv')\n",
    "for col,datatype in data_dtypes.items():\n",
    "    data[col] = data[col].astype(datatype)"
   ]
  },
  {
   "cell_type": "markdown",
   "metadata": {},
   "source": [
    "###Impute missing values and Scale Numeric Features "
   ]
  },
  {
   "cell_type": "code",
   "execution_count": 3,
   "metadata": {
    "collapsed": false
   },
   "outputs": [],
   "source": [
    "for col,datatype in data_dtypes.items():\n",
    "    if pd.isnull(data[col]).sum() > 0:\n",
    "        data[col] = Imputer(axis=1).fit_transform(data[col]).T[:,0]"
   ]
  },
  {
   "cell_type": "code",
   "execution_count": null,
   "metadata": {
    "collapsed": false
   },
   "outputs": [],
   "source": [
    "for col,datatype in data_dtypes.items():\n",
    "    if datatype in ['float32']:\n",
    "        data[col] = StandardScaler().fit_transform(data[col])"
   ]
  },
  {
   "cell_type": "markdown",
   "metadata": {},
   "source": [
    "###Encode and Binarize Categorical Features"
   ]
  },
  {
   "cell_type": "code",
   "execution_count": null,
   "metadata": {
    "collapsed": false
   },
   "outputs": [],
   "source": [
    "data_non_binarized = data.copy()\n",
    "categorical_cols = [col for col in data if str(data[col].dtype) == \"category\" and col not in ['Dataset','WnvPresent','Year']]\n",
    "for col in categorical_cols:\n",
    "    le = LabelEncoder()\n",
    "    binarized_df = pd.DataFrame(\n",
    "        data = LabelBinarizer().fit_transform(le.fit_transform(data[col])),\n",
    "        columns = [col + \"_\" + str(feature) for feature in le.classes_]\n",
    "    )\n",
    "    data = data.drop(col,axis=1)\n",
    "    data = pd.concat([data,binarized_df],axis=1)"
   ]
  },
  {
   "cell_type": "markdown",
   "metadata": {},
   "source": [
    "###Train/Test Split"
   ]
  },
  {
   "cell_type": "code",
   "execution_count": null,
   "metadata": {
    "collapsed": false
   },
   "outputs": [],
   "source": [
    "train = data[data.Dataset == 'Train']\n",
    "test  = data[data.Dataset == 'Test']"
   ]
  },
  {
   "cell_type": "code",
   "execution_count": null,
   "metadata": {
    "collapsed": false
   },
   "outputs": [],
   "source": [
    "year_crossval = LeaveOneLabelOut(train['Year'])\n",
    "\n",
    "features = [\n",
    "    col for col in data if col not in [\n",
    "        'Dataset','ID','NumMosquitos','WnvPresent','Date','Sunrise','Sunset']]\n",
    "\n",
    "parameters = {\n",
    "    'pca__n_components':[5,10,100,None],\n",
    "    'classifier__C':[10e-5,10e-2,10e0,10e2,10e5],\n",
    "    'classifier__gamma':[10e-5,10e-2,10e0,10e2,10e5]\n",
    "}\n",
    "\n",
    "pipeline = Pipeline(steps=[\n",
    "    ('pca',PCA()),\n",
    "    ('classifier',SVM(cache_size = 2000))\n",
    "])\n",
    "\n",
    "grid_search_start = time.time()\n",
    "if __name__ == \"__main__\":\n",
    "    # multiprocessing requires the fork to happen in a __main__ protected\n",
    "    # block\n",
    "    \n",
    "    grid_search = GridSearchCV(\n",
    "        pipeline,parameters,cv = year_crossval,n_jobs=-1, verbose=1, scoring='roc_auc'\n",
    "    )\n",
    "    grid_search.fit(train[features],train['WnvPresent'])\n",
    "    best_params = grid_search.best_params_\n",
    "    print(\"Best score: %0.3f\" % grid_search.best_score_)\n",
    "    print(\"Best parameters set:\",best_params)\n",
    "    print(\"Model trained in %0.3f seconds\" % (time.time() - grid_search_start))"
   ]
  },
  {
   "cell_type": "code",
   "execution_count": null,
   "metadata": {
    "collapsed": false
   },
   "outputs": [],
   "source": [
    "prediction_start = time.time()\n",
    "results = pd.DataFrame({\n",
    "'Id': list(range(1,len(test)+1)),\n",
    "'WnvPresent': grid_search.best_estimator_.predict(test[features])\n",
    "})\n",
    "print(\"Prediction Time: %0.3f seconds\" % (time.time() - prediction_start))\n",
    "results.groupby('WnvPresent').describe()"
   ]
  },
  {
   "cell_type": "code",
   "execution_count": null,
   "metadata": {
    "collapsed": false
   },
   "outputs": [],
   "source": [
    "#results.to_csv('../submissions/19_smote_bagging.csv',index=False)"
   ]
  }
 ],
 "metadata": {
  "kernelspec": {
   "display_name": "Python 3",
   "language": "python",
   "name": "python3"
  },
  "language_info": {
   "codemirror_mode": {
    "name": "ipython",
    "version": 3
   },
   "file_extension": ".py",
   "mimetype": "text/x-python",
   "name": "python",
   "nbconvert_exporter": "python",
   "pygments_lexer": "ipython3",
   "version": "3.4.1"
  }
 },
 "nbformat": 4,
 "nbformat_minor": 0
}
