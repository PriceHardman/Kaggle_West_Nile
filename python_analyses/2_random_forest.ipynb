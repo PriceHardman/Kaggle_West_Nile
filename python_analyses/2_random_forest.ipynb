{
 "cells": [
  {
   "cell_type": "code",
   "execution_count": 43,
   "metadata": {
    "collapsed": true
   },
   "outputs": [],
   "source": [
    "import pandas as pd\n",
    "from pandas import Categorical\n",
    "import numpy as np\n",
    "\n",
    "from sklearn.preprocessing import LabelEncoder, LabelBinarizer, StandardScaler, Imputer\n",
    "from sklearn.cross_validation import LeaveOneLabelOut, cross_val_score\n",
    "from sklearn.pipeline import Pipeline\n",
    "from sklearn.grid_search import GridSearchCV\n",
    "from sklearn.ensemble import RandomForestClassifier, AdaBoostClassifier, BaggingClassifier\n",
    "from sklearn.decomposition import PCA\n",
    "\n",
    "import time\n",
    "\n",
    "import matplotlib.pyplot as plt\n",
    "%matplotlib inline"
   ]
  },
  {
   "cell_type": "code",
   "execution_count": 31,
   "metadata": {
    "collapsed": false
   },
   "outputs": [],
   "source": [
    "data_dtypes = {\n",
    "    'Dataset':'category',\n",
    "    'ID':'int',\n",
    "    'YearMonth': 'category',\n",
    "    'Year': 'category',\n",
    "    'Month': 'category',\n",
    "    'Week': 'category',\n",
    "    'Address': 'category',\n",
    "    'Species': 'category',\n",
    "    'Block': 'category',\n",
    "    'Street': 'category',\n",
    "    'Trap': 'category',\n",
    "    'AddressNumberAndStreet': 'category',\n",
    "    'Latitude': 'float32',\n",
    "    'Longitude': 'float32',\n",
    "    'AddressAccuracy': 'category',\n",
    "    'NumMosquitos': 'float32',\n",
    "    'WnvPresent': 'category',\n",
    "    'Tmax': 'float32',\n",
    "    'Tmin': 'float32',\n",
    "    'Tavg': 'float32',\n",
    "    'Depart': 'category',\n",
    "    'DewPoint': 'float32',\n",
    "    'WetBulb': 'float32',\n",
    "    'Heat': 'category',\n",
    "    'Cool': 'category',\n",
    "    'Sunrise': 'float32',\n",
    "    'Sunset': 'float32',\n",
    "    'CodeSum': 'category',\n",
    "    'PrecipTotal': 'float32',\n",
    "    'StnPressure': 'float32',\n",
    "    'SeaLevel': 'float32',\n",
    "    'ResultSpeed': 'float32',\n",
    "    'ResultDir': 'float32',\n",
    "    'AvgSpeed': 'float32',\n",
    "    'SprayIntensity': 'float32'\n",
    "}\n",
    "data = pd.read_csv('../data/smote_data.csv')\n",
    "for col,datatype in data_dtypes.items():\n",
    "    data[col] = data[col].astype(datatype)"
   ]
  },
  {
   "cell_type": "markdown",
   "metadata": {},
   "source": [
    "### Encode Categorical Features"
   ]
  },
  {
   "cell_type": "code",
   "execution_count": 32,
   "metadata": {
    "collapsed": false
   },
   "outputs": [],
   "source": [
    "for col,datatype in data_dtypes.items():\n",
    "    if datatype is 'category' and col not in ['Dataset','WnvPresent']:\n",
    "        data[col] = LabelEncoder().fit_transform(data[col])"
   ]
  },
  {
   "cell_type": "markdown",
   "metadata": {},
   "source": [
    "###Impute missing values and Scale Numeric Features "
   ]
  },
  {
   "cell_type": "code",
   "execution_count": 33,
   "metadata": {
    "collapsed": false
   },
   "outputs": [],
   "source": [
    "for col,datatype in data_dtypes.items():\n",
    "    if pd.isnull(data[col]).sum() > 0:\n",
    "        data[col] = Imputer(axis=1).fit_transform(data[col]).T[:,0]"
   ]
  },
  {
   "cell_type": "code",
   "execution_count": 34,
   "metadata": {
    "collapsed": false
   },
   "outputs": [],
   "source": [
    "for col,datatype in data_dtypes.items():\n",
    "    if datatype in ['float32']:\n",
    "        data[col] = StandardScaler().fit_transform(data[col])"
   ]
  },
  {
   "cell_type": "markdown",
   "metadata": {},
   "source": [
    "###Train/Test Split"
   ]
  },
  {
   "cell_type": "code",
   "execution_count": 35,
   "metadata": {
    "collapsed": false
   },
   "outputs": [],
   "source": [
    "train = data[data.Dataset == 'Train']\n",
    "test  = data[data.Dataset == 'Test']"
   ]
  },
  {
   "cell_type": "markdown",
   "metadata": {},
   "source": [
    "### Train random forest, cross validating on year label"
   ]
  },
  {
   "cell_type": "code",
   "execution_count": 44,
   "metadata": {
    "collapsed": false
   },
   "outputs": [
    {
     "name": "stderr",
     "output_type": "stream",
     "text": [
      "[Parallel(n_jobs=-1)]: Done   1 jobs       | elapsed:    8.2s\n",
      "[Parallel(n_jobs=-1)]: Done  42 out of  48 | elapsed:  3.9min remaining:   33.2s\n",
      "[Parallel(n_jobs=-1)]: Done  48 out of  48 | elapsed:  4.4min finished\n"
     ]
    },
    {
     "name": "stdout",
     "output_type": "stream",
     "text": [
      "Fitting 4 folds for each of 12 candidates, totalling 48 fits\n",
      "Best score: 0.850\n",
      "Best parameters set: {'pca__n_components': 10, 'classifier__n_estimators': 100}\n",
      "Model trained in 282.432 seconds\n"
     ]
    }
   ],
   "source": [
    "year_crossval = LeaveOneLabelOut(train['Year'])\n",
    "\n",
    "features = [\n",
    "    col for col in data if col not in [\n",
    "        'Dataset','ID','NumMosquitos','WnvPresent','Date','Sunrise','Sunset']]\n",
    "\n",
    "parameters = {\n",
    "    'pca__n_components':[None,5,10],\n",
    "    'classifier__n_estimators':[10,25,50,100]\n",
    "}\n",
    "\n",
    "pipeline = Pipeline(steps=[\n",
    "    ('pca',PCA()),\n",
    "    ('classifier',BaggingClassifier())\n",
    "])\n",
    "\n",
    "grid_search_start = time.time()\n",
    "if __name__ == \"__main__\":\n",
    "    # multiprocessing requires the fork to happen in a __main__ protected\n",
    "    # block\n",
    "    \n",
    "    grid_search = GridSearchCV(\n",
    "        pipeline,parameters,cv = year_crossval,n_jobs=-1, verbose=1, scoring='roc_auc'\n",
    "    )\n",
    "    grid_search.fit(train[features],train['WnvPresent'])\n",
    "    best_params = grid_search.best_params_\n",
    "    print(\"Best score: %0.3f\" % grid_search.best_score_)\n",
    "    print(\"Best parameters set:\",best_params)\n",
    "    print(\"Model trained in %0.3f seconds\" % (time.time() - grid_search_start))"
   ]
  },
  {
   "cell_type": "code",
   "execution_count": 45,
   "metadata": {
    "collapsed": false
   },
   "outputs": [
    {
     "name": "stdout",
     "output_type": "stream",
     "text": [
      "Prediction Time: 2.804 seconds\n"
     ]
    },
    {
     "data": {
      "text/html": [
       "<div style=\"max-height:1000px;max-width:1500px;overflow:auto;\">\n",
       "<table border=\"1\" class=\"dataframe\">\n",
       "  <thead>\n",
       "    <tr style=\"text-align: right;\">\n",
       "      <th></th>\n",
       "      <th></th>\n",
       "      <th>Id</th>\n",
       "    </tr>\n",
       "    <tr>\n",
       "      <th>WnvPresent</th>\n",
       "      <th></th>\n",
       "      <th></th>\n",
       "    </tr>\n",
       "  </thead>\n",
       "  <tbody>\n",
       "    <tr>\n",
       "      <th rowspan=\"8\" valign=\"top\">0</th>\n",
       "      <th>count</th>\n",
       "      <td>109479.000000</td>\n",
       "    </tr>\n",
       "    <tr>\n",
       "      <th>mean</th>\n",
       "      <td>58013.071484</td>\n",
       "    </tr>\n",
       "    <tr>\n",
       "      <th>std</th>\n",
       "      <td>33717.105116</td>\n",
       "    </tr>\n",
       "    <tr>\n",
       "      <th>min</th>\n",
       "      <td>1.000000</td>\n",
       "    </tr>\n",
       "    <tr>\n",
       "      <th>25%</th>\n",
       "      <td>29070.500000</td>\n",
       "    </tr>\n",
       "    <tr>\n",
       "      <th>50%</th>\n",
       "      <td>57808.000000</td>\n",
       "    </tr>\n",
       "    <tr>\n",
       "      <th>75%</th>\n",
       "      <td>87642.500000</td>\n",
       "    </tr>\n",
       "    <tr>\n",
       "      <th>max</th>\n",
       "      <td>116293.000000</td>\n",
       "    </tr>\n",
       "    <tr>\n",
       "      <th rowspan=\"8\" valign=\"top\">1</th>\n",
       "      <th>count</th>\n",
       "      <td>6814.000000</td>\n",
       "    </tr>\n",
       "    <tr>\n",
       "      <th>mean</th>\n",
       "      <td>60298.799237</td>\n",
       "    </tr>\n",
       "    <tr>\n",
       "      <th>std</th>\n",
       "      <td>31053.659787</td>\n",
       "    </tr>\n",
       "    <tr>\n",
       "      <th>min</th>\n",
       "      <td>81.000000</td>\n",
       "    </tr>\n",
       "    <tr>\n",
       "      <th>25%</th>\n",
       "      <td>29078.250000</td>\n",
       "    </tr>\n",
       "    <tr>\n",
       "      <th>50%</th>\n",
       "      <td>65939.500000</td>\n",
       "    </tr>\n",
       "    <tr>\n",
       "      <th>75%</th>\n",
       "      <td>84601.750000</td>\n",
       "    </tr>\n",
       "    <tr>\n",
       "      <th>max</th>\n",
       "      <td>116253.000000</td>\n",
       "    </tr>\n",
       "  </tbody>\n",
       "</table>\n",
       "</div>"
      ],
      "text/plain": [
       "                             Id\n",
       "WnvPresent                     \n",
       "0          count  109479.000000\n",
       "           mean    58013.071484\n",
       "           std     33717.105116\n",
       "           min         1.000000\n",
       "           25%     29070.500000\n",
       "           50%     57808.000000\n",
       "           75%     87642.500000\n",
       "           max    116293.000000\n",
       "1          count    6814.000000\n",
       "           mean    60298.799237\n",
       "           std     31053.659787\n",
       "           min        81.000000\n",
       "           25%     29078.250000\n",
       "           50%     65939.500000\n",
       "           75%     84601.750000\n",
       "           max    116253.000000"
      ]
     },
     "execution_count": 45,
     "metadata": {},
     "output_type": "execute_result"
    }
   ],
   "source": [
    "prediction_start = time.time()\n",
    "results = pd.DataFrame({\n",
    "'Id': list(range(1,len(test)+1)),\n",
    "'WnvPresent': grid_search.best_estimator_.predict(test[features])\n",
    "})\n",
    "print(\"Prediction Time: %0.3f seconds\" % (time.time() - prediction_start))\n",
    "results.groupby('WnvPresent').describe()"
   ]
  },
  {
   "cell_type": "code",
   "execution_count": 46,
   "metadata": {
    "collapsed": false
   },
   "outputs": [],
   "source": [
    "results.to_csv('../submissions/19_smote_bagging.csv',index=False)"
   ]
  }
 ],
 "metadata": {
  "kernelspec": {
   "display_name": "Python 3",
   "language": "python",
   "name": "python3"
  },
  "language_info": {
   "codemirror_mode": {
    "name": "ipython",
    "version": 3
   },
   "file_extension": ".py",
   "mimetype": "text/x-python",
   "name": "python",
   "nbconvert_exporter": "python",
   "pygments_lexer": "ipython3",
   "version": "3.4.1"
  }
 },
 "nbformat": 4,
 "nbformat_minor": 0
}
