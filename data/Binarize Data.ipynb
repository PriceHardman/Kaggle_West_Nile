{
 "cells": [
  {
   "cell_type": "code",
   "execution_count": 22,
   "metadata": {
    "collapsed": true
   },
   "outputs": [],
   "source": [
    "import numpy as np\n",
    "import pandas as pd\n",
    "from pandas import Categorical\n",
    "from sklearn.preprocessing import LabelEncoder, LabelBinarizer"
   ]
  },
  {
   "cell_type": "code",
   "execution_count": 23,
   "metadata": {
    "collapsed": true
   },
   "outputs": [],
   "source": [
    "data = pd.read_csv('./joined_data.csv')"
   ]
  },
  {
   "cell_type": "markdown",
   "metadata": {},
   "source": [
    "Categorize the features into four categories:\n",
    "    - Discarded (e,g. NumMosquitos, Date, WnvPresent)\n",
    "    - Supportive (e.g. ID, Dataset)\n",
    "    - Numeric\n",
    "    - Categorical\n",
    "\n",
    "We'll then produce three dataframes:\n",
    "    - One dataframe for the supportive columns.\n",
    "    - One dataframe for the numeric columns, where each column has been\n",
    "      normalized to have mean 0 and standard deviation 1.\n",
    "    - One dataframe for the categorical columns, where we'll use \n",
    "      LabelBinarizer() to expand them out into binary columns.\n",
    "\n",
    "Then we'll join the three dataframes together into a binarized dataframe of all our desired features"
   ]
  },
  {
   "cell_type": "code",
   "execution_count": 24,
   "metadata": {
    "collapsed": true
   },
   "outputs": [],
   "source": [
    "features_to_delete = [\n",
    "    'Date','Address','Block','Trap','Street',\n",
    "    'AddressNumberAndStreet','AddressAccuracy',\n",
    "    'NumMosquitos','Sunrise','Sunset'\n",
    "]\n",
    "\n",
    "support_features = [\n",
    "    'Dataset','ID','WnvPresent'\n",
    "]\n",
    "\n",
    "numeric_features = [\n",
    "    'Latitude','Longitude','Tmax','Tmin','Tavg',\n",
    "    'Depart','DewPoint','WetBulb','Heat','Cool',\n",
    "    'PrecipTotal','StnPressure','SeaLevel',\n",
    "    'ResultSpeed','ResultDir','AvgSpeed','SprayIntensity'\n",
    "]\n",
    "\n",
    "categorical_features = [\n",
    "    'Year','Month','YearMonth','Week',\n",
    "    'Species','CodeSum'\n",
    "]"
   ]
  },
  {
   "cell_type": "code",
   "execution_count": 25,
   "metadata": {
    "collapsed": true
   },
   "outputs": [],
   "source": [
    "support = data[support_features]\n",
    "numerics = data[numeric_features]\n",
    "categoricals = data[categorical_features]"
   ]
  },
  {
   "cell_type": "code",
   "execution_count": 26,
   "metadata": {
    "collapsed": false
   },
   "outputs": [],
   "source": [
    "numerics = (numerics - numerics.mean()) / numerics.std()"
   ]
  },
  {
   "cell_type": "markdown",
   "metadata": {},
   "source": [
    "Now we'll label encode and binarize the categorical features"
   ]
  },
  {
   "cell_type": "code",
   "execution_count": 27,
   "metadata": {
    "collapsed": false
   },
   "outputs": [],
   "source": [
    "for col in categoricals:\n",
    "    le = LabelEncoder()\n",
    "    binarized_df = pd.DataFrame(\n",
    "        data = LabelBinarizer().fit_transform(le.fit_transform(data[col])),\n",
    "        columns = [col + \"_\" + str(feature) for feature in le.classes_]\n",
    "    )\n",
    "    categoricals = categoricals.drop(col,axis=1)\n",
    "    categoricals = pd.concat([categoricals,binarized_df],axis=1)"
   ]
  },
  {
   "cell_type": "code",
   "execution_count": 34,
   "metadata": {
    "collapsed": false
   },
   "outputs": [],
   "source": [
    "data = pd.concat([support,numerics,categoricals],axis=1)"
   ]
  },
  {
   "cell_type": "code",
   "execution_count": 39,
   "metadata": {
    "collapsed": true
   },
   "outputs": [],
   "source": [
    "data.to_csv(\"./binarized_data.csv\",index=False)"
   ]
  }
 ],
 "metadata": {
  "kernelspec": {
   "display_name": "Python 3",
   "language": "python",
   "name": "python3"
  },
  "language_info": {
   "codemirror_mode": {
    "name": "ipython",
    "version": 3
   },
   "file_extension": ".py",
   "mimetype": "text/x-python",
   "name": "python",
   "nbconvert_exporter": "python",
   "pygments_lexer": "ipython3",
   "version": "3.4.1"
  }
 },
 "nbformat": 4,
 "nbformat_minor": 0
}
